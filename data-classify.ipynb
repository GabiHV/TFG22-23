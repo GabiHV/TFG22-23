{
 "cells": [
  {
   "attachments": {},
   "cell_type": "markdown",
   "metadata": {},
   "source": [
    "# Preprocesamiento de los datos para poder ser empleados por la _RNA_\n",
    "\n",
    "Importamos las librerías para el procesamiento de los datos.\n",
    "Para el proceso de limpieza de los datos inválidos y los outliers emplearemos Pandas.\n",
    "\n",
    "Por otro lado, en el caso de los datos del pluviómetro para comprobar los valores anómalos emplearemos la librería nativa de peticiones (requests)"
   ]
  },
  {
   "cell_type": "code",
   "execution_count": 98,
   "metadata": {},
   "outputs": [],
   "source": [
    "import pandas as pd\n",
    "import requests\n",
    "import math as m"
   ]
  },
  {
   "attachments": {},
   "cell_type": "markdown",
   "metadata": {},
   "source": [
    "Creamos las variables constantes para establecer la dirección en la que se encuentran los ficheros de datos y el directorio en el que se deberá almacenar los resultados"
   ]
  },
  {
   "cell_type": "code",
   "execution_count": 99,
   "metadata": {},
   "outputs": [],
   "source": [
    "RAW_FILES_PATH = './data/raw_data/'\n",
    "CLASSIFIED_FILES_PATH = './data/classified_data/'\n",
    "\n",
    "WEATHER_API_BASE_URL = 'https://history.openweathermap.org/data/2.5/history/city?lat=41.6966212&lon=-3.9284274&dt={dt}&units=metric&appid={key}'\n",
    "\n",
    "APIKEY = '9382de5e41593eeb1d830727d6df604d'"
   ]
  },
  {
   "attachments": {},
   "cell_type": "markdown",
   "metadata": {},
   "source": [
    "En los ficheros de los datos relacionados con los sensores debemos realizar operaciones diferentes que en el archivo del pluviómetro, por lo que se divide el procesamiento en varias funciones"
   ]
  },
  {
   "cell_type": "code",
   "execution_count": 100,
   "metadata": {},
   "outputs": [],
   "source": [
    "def main():\n",
    "    sensor_data_processing()\n",
    "    pluviometer_data_processing()\n",
    "\n",
    "def sensor_data_processing():\n",
    "    sensor_files = [\"sensor1.csv\", \"sensor2.csv\", \"sensor3.csv\", \"sensor4.csv\", \n",
    "                    \"sensor5.csv\", \"sensor6.csv\", \"sensor7.csv\", \"sensor8.csv\"]\n",
    "\n",
    "    for file in sensor_files:\n",
    "\n",
    "        sensor_reader = pd.read_csv(RAW_FILES_PATH + file)\n",
    "\n",
    "        # Eliminar campos sin valores\n",
    "        sensor_reader = sensor_reader.dropna()\n",
    "\n",
    "        # Eliminar outliers\n",
    "        outliers_rows = []\n",
    "        for row in sensor_reader.itertuples():\n",
    "            if row.bateria < 3.3 or row.bateria > 4.1:\n",
    "                outliers_rows.append(row.Index)\n",
    "\n",
    "        sensor_reader = sensor_reader.drop(outliers_rows)\n",
    "\n",
    "        sensor_reader.to_csv(CLASSIFIED_FILES_PATH + file, index = False)\n",
    "\n",
    "def pluviometer_data_processing():\n",
    "    pluviometer_files = [\"pluviometro.csv\"]\n",
    "\n",
    "    pass\n",
    "\n",
    "        "
   ]
  },
  {
   "cell_type": "code",
   "execution_count": 101,
   "metadata": {},
   "outputs": [],
   "source": [
    "if __name__ == \"__main__\":\n",
    "    main()"
   ]
  }
 ],
 "metadata": {
  "kernelspec": {
   "display_name": "base",
   "language": "python",
   "name": "python3"
  },
  "language_info": {
   "codemirror_mode": {
    "name": "ipython",
    "version": 3
   },
   "file_extension": ".py",
   "mimetype": "text/x-python",
   "name": "python",
   "nbconvert_exporter": "python",
   "pygments_lexer": "ipython3",
   "version": "3.8.8"
  },
  "orig_nbformat": 4,
  "vscode": {
   "interpreter": {
    "hash": "88279d2366fe020547cde40dd65aa0e3aa662a6ec1f3ca12d88834876c85e1a6"
   }
  }
 },
 "nbformat": 4,
 "nbformat_minor": 2
}
