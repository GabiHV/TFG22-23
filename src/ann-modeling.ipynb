{
 "cells": [
  {
   "cell_type": "code",
   "execution_count": 1,
   "metadata": {},
   "outputs": [],
   "source": [
    "import tensorflow as tf\n",
    "from tensorflow import keras as kr\n",
    "from keras import layers, Sequential\n",
    "import numpy as np\n",
    "import pandas as pd\n",
    "import os\n",
    "from env_paths import *"
   ]
  },
  {
   "cell_type": "code",
   "execution_count": 18,
   "metadata": {},
   "outputs": [],
   "source": [
    "INPUT_COLS = [\"t_ext\", \"h_ext\"]\n",
    "TARGET_COLS = [\"t_C_cal\",\"h_C_cal\",\"t_L_cal\",\"h_L_cal\"]\n",
    "MIN_MAX_COLS_VALUES = {\"t_ext\": (-50, 50), \"h_ext\": (0, 100), \"t_C_cal\": (-50, 50), \n",
    "                       \"t_L_cal\": (-50, 50), \"h_C_cal\": (0, 100), \"h_L_cal\": (0, 100)}"
   ]
  },
  {
   "cell_type": "code",
   "execution_count": 16,
   "metadata": {},
   "outputs": [],
   "source": [
    "def train_validate_test_split(df, train_size=.6, val_size=.2, seed=None):\n",
    "    np.random.seed(seed)\n",
    "    per = np.random.permutation(df.index)\n",
    "    size = len(df.index)\n",
    "    train_end = int(train_size * size)\n",
    "    validate_end = int(val_size * size) + train_end\n",
    "    train = df.iloc[per[:train_end]]\n",
    "    val = df.iloc[per[train_end:validate_end]]\n",
    "    test = df.iloc[per[validate_end:]]\n",
    "    return train, val, test"
   ]
  },
  {
   "cell_type": "code",
   "execution_count": 20,
   "metadata": {},
   "outputs": [],
   "source": [
    "files = os.listdir(CLASSIFIED_SENSOR_PATH)\n",
    "df = pd.read_csv(CLASSIFIED_SENSOR_PATH + files[0])\n",
    "df = df.drop([\"ts\"], axis=1)\n",
    "\n",
    "# Normalizacion de cada columna empleando (xi – minimo(x)) / (máximo(x) – minimo(x))\n",
    "for col, (min, max) in MIN_MAX_COLS_VALUES.items():\n",
    "    df[col]=(df[col]-min)/(max-min)\n",
    "\n",
    "train_size = 0.70\n",
    "val_size = 0.15\n",
    "train, val, test = train_validate_test_split(df, train_size=train_size, val_size=val_size)\n",
    "\n",
    "X_train = np.array(train[INPUT_COLS])\n",
    "y_train = np.array(train[TARGET_COLS])\n",
    "\n",
    "X_val = np.array(val[INPUT_COLS])\n",
    "y_val = np.array(val[TARGET_COLS])\n",
    "\n",
    "X_test = np.array(test[INPUT_COLS])\n",
    "y_test = np.array(test[TARGET_COLS])\n"
   ]
  },
  {
   "cell_type": "code",
   "execution_count": 37,
   "metadata": {},
   "outputs": [
    {
     "name": "stdout",
     "output_type": "stream",
     "text": [
      "Model: \"model_9\"\n",
      "_________________________________________________________________\n",
      " Layer (type)                Output Shape              Param #   \n",
      "=================================================================\n",
      " input_14 (InputLayer)       [(None, 2, 1)]            0         \n",
      "                                                                 \n",
      " gru_16 (GRU)                (None, 2, 100)            30900     \n",
      "                                                                 \n",
      " gru_17 (GRU)                (None, 50)                22800     \n",
      "                                                                 \n",
      " dense_9 (Dense)             (None, 4)                 204       \n",
      "                                                                 \n",
      "=================================================================\n",
      "Total params: 53,904\n",
      "Trainable params: 53,904\n",
      "Non-trainable params: 0\n",
      "_________________________________________________________________\n",
      "Epoch 1/25\n",
      "1324/1324 [==============================] - 14s 8ms/step - loss: 0.0028 - accuracy: 0.6428 - val_loss: 0.0019 - val_accuracy: 0.6717\n",
      "Epoch 2/25\n",
      "1324/1324 [==============================] - 9s 7ms/step - loss: 0.0022 - accuracy: 0.6512 - val_loss: 0.0021 - val_accuracy: 0.3928\n",
      "Epoch 3/25\n",
      "1324/1324 [==============================] - 9s 7ms/step - loss: 0.0015 - accuracy: 0.6724 - val_loss: 0.0013 - val_accuracy: 0.7203\n",
      "Epoch 4/25\n",
      "1324/1324 [==============================] - 10s 8ms/step - loss: 0.0014 - accuracy: 0.6574 - val_loss: 0.0012 - val_accuracy: 0.6200\n",
      "Epoch 5/25\n",
      "1324/1324 [==============================] - 10s 7ms/step - loss: 0.0013 - accuracy: 0.6994 - val_loss: 0.0013 - val_accuracy: 0.7175\n",
      "Epoch 6/25\n",
      "1324/1324 [==============================] - 10s 7ms/step - loss: 0.0013 - accuracy: 0.7004 - val_loss: 0.0014 - val_accuracy: 0.7129\n",
      "Epoch 7/25\n",
      "1324/1324 [==============================] - 10s 7ms/step - loss: 0.0013 - accuracy: 0.6897 - val_loss: 0.0013 - val_accuracy: 0.6282\n",
      "Epoch 8/25\n",
      "1324/1324 [==============================] - 10s 7ms/step - loss: 0.0012 - accuracy: 0.6986 - val_loss: 0.0012 - val_accuracy: 0.7219\n",
      "Epoch 9/25\n",
      "1324/1324 [==============================] - 10s 7ms/step - loss: 0.0012 - accuracy: 0.7095 - val_loss: 0.0011 - val_accuracy: 0.7214\n",
      "Epoch 10/25\n",
      "1324/1324 [==============================] - 10s 7ms/step - loss: 0.0012 - accuracy: 0.7110 - val_loss: 0.0012 - val_accuracy: 0.7219\n",
      "Epoch 11/25\n",
      "1324/1324 [==============================] - 10s 7ms/step - loss: 0.0012 - accuracy: 0.7126 - val_loss: 0.0012 - val_accuracy: 0.7197\n",
      "Epoch 12/25\n",
      "1324/1324 [==============================] - 9s 7ms/step - loss: 0.0012 - accuracy: 0.7106 - val_loss: 0.0012 - val_accuracy: 0.7100\n",
      "Epoch 13/25\n",
      "1324/1324 [==============================] - 10s 7ms/step - loss: 0.0012 - accuracy: 0.7132 - val_loss: 0.0011 - val_accuracy: 0.7172\n",
      "Epoch 14/25\n",
      "1324/1324 [==============================] - 10s 7ms/step - loss: 0.0012 - accuracy: 0.7125 - val_loss: 0.0013 - val_accuracy: 0.7250\n",
      "Epoch 15/25\n",
      "1324/1324 [==============================] - 10s 7ms/step - loss: 0.0012 - accuracy: 0.7138 - val_loss: 0.0012 - val_accuracy: 0.7266\n",
      "Epoch 16/25\n",
      "1324/1324 [==============================] - 10s 7ms/step - loss: 0.0012 - accuracy: 0.7149 - val_loss: 0.0011 - val_accuracy: 0.7184\n",
      "Epoch 17/25\n",
      "1324/1324 [==============================] - 9s 7ms/step - loss: 0.0012 - accuracy: 0.7146 - val_loss: 0.0012 - val_accuracy: 0.7254\n",
      "Epoch 18/25\n",
      "1324/1324 [==============================] - 9s 7ms/step - loss: 0.0012 - accuracy: 0.7146 - val_loss: 0.0012 - val_accuracy: 0.7203\n",
      "Epoch 19/25\n",
      "1324/1324 [==============================] - 9s 7ms/step - loss: 0.0012 - accuracy: 0.7152 - val_loss: 0.0012 - val_accuracy: 0.7221\n",
      "Epoch 20/25\n",
      "1324/1324 [==============================] - 9s 7ms/step - loss: 0.0012 - accuracy: 0.7170 - val_loss: 0.0012 - val_accuracy: 0.7268\n",
      "Epoch 21/25\n",
      "1324/1324 [==============================] - 9s 7ms/step - loss: 0.0012 - accuracy: 0.7165 - val_loss: 0.0012 - val_accuracy: 0.7221\n",
      "Epoch 22/25\n",
      "1324/1324 [==============================] - 9s 7ms/step - loss: 0.0012 - accuracy: 0.7155 - val_loss: 0.0012 - val_accuracy: 0.7166\n",
      "Epoch 23/25\n",
      "1324/1324 [==============================] - 9s 7ms/step - loss: 0.0012 - accuracy: 0.7156 - val_loss: 0.0012 - val_accuracy: 0.7231\n",
      "Epoch 24/25\n",
      "1324/1324 [==============================] - 10s 7ms/step - loss: 0.0012 - accuracy: 0.7159 - val_loss: 0.0011 - val_accuracy: 0.7256\n",
      "Epoch 25/25\n",
      "1324/1324 [==============================] - 10s 7ms/step - loss: 0.0012 - accuracy: 0.7167 - val_loss: 0.0012 - val_accuracy: 0.7201\n",
      "568/568 [==============================] - 2s 3ms/step\n"
     ]
    }
   ],
   "source": [
    "# Instanciacion del modelo, creacion de capas y declaracion de las neuronas por capas y su funcion de activacion\n",
    "model = Sequential()\n",
    "inputs = kr.Input(shape=(2, 1))\n",
    "x = layers.GRU(100, activation=\"sigmoid\", return_sequences=True)(inputs)\n",
    "x = layers.GRU(50)(x)\n",
    "# x = layers.Dense(30, activation=\"sigmoid\")(x)\n",
    "outputs = layers.Dense(4, activation=\"sigmoid\")(x)\n",
    "\n",
    "model = kr.Model(inputs=inputs, outputs=outputs)\n",
    "model.compile(loss=\"mse\", optimizer=kr.optimizers.Adam(learning_rate=0.05), metrics=['accuracy'])\n",
    "model.summary()\n",
    "\n",
    "# Entrenamiento de la RNA\n",
    "model.fit(X_train, y_train, epochs=25, batch_size=64, verbose=1, validation_data=(X_val, y_val))\n",
    "\n",
    "\n",
    "predictions = model.predict(X_test)"
   ]
  },
  {
   "cell_type": "code",
   "execution_count": 38,
   "metadata": {},
   "outputs": [],
   "source": [
    "# Deshacemos la normalizacion de los datos predichos\n",
    "predictions = pd.DataFrame(data=predictions, columns=TARGET_COLS)\n",
    "\n",
    "for col in TARGET_COLS:\n",
    "    min, max = MIN_MAX_COLS_VALUES[col]\n",
    "    predictions[col] = predictions[col] * (max - min) + min"
   ]
  },
  {
   "cell_type": "code",
   "execution_count": 15,
   "metadata": {},
   "outputs": [
    {
     "name": "stderr",
     "output_type": "stream",
     "text": [
      "WARNING:absl:Found untraced functions such as _update_step_xla while saving (showing 1 of 1). These functions will not be directly callable after loading.\n"
     ]
    },
    {
     "name": "stdout",
     "output_type": "stream",
     "text": [
      "INFO:tensorflow:Assets written to: ./ann_model\\assets\n"
     ]
    },
    {
     "name": "stderr",
     "output_type": "stream",
     "text": [
      "INFO:tensorflow:Assets written to: ./ann_model\\assets\n"
     ]
    }
   ],
   "source": [
    "model.save(\"./ann_model\", overwrite=True)"
   ]
  }
 ],
 "metadata": {
  "kernelspec": {
   "display_name": ".venv",
   "language": "python",
   "name": "python3"
  },
  "language_info": {
   "codemirror_mode": {
    "name": "ipython",
    "version": 3
   },
   "file_extension": ".py",
   "mimetype": "text/x-python",
   "name": "python",
   "nbconvert_exporter": "python",
   "pygments_lexer": "ipython3",
   "version": "3.9.13"
  },
  "orig_nbformat": 4
 },
 "nbformat": 4,
 "nbformat_minor": 2
}
